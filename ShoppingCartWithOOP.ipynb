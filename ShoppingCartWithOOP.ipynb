{
 "cells": [
  {
   "cell_type": "markdown",
   "id": "cb26259b",
   "metadata": {},
   "source": [
    "## Exercises\n",
    "### Exercise 1 - Turn the shopping cart program from yesterday into an object-oriented program\n",
    "#### The comments in the cell below are there as a guide for thinking about the problem. However, if you feel a different way is best for you and your own thought process, please do what feels best for you by all means."
   ]
  },
  {
   "cell_type": "code",
   "execution_count": 1,
   "id": "7dc04080",
   "metadata": {},
   "outputs": [],
   "source": [
    "# Create a class called cart that retains items and has methods to add, remove, and show\n",
    "\n",
    "# this class is just responsible for the cart object and the actions of the cart object\n",
    "# only need one class\n",
    "\n",
    "#class Cart():\n",
    "#    pass\n",
    "\n",
    "#can refactor same code or just start again from scratch"
   ]
  },
  {
   "cell_type": "code",
   "execution_count": null,
   "id": "afd6ee40",
   "metadata": {},
   "outputs": [],
   "source": [
    "# goal: create a cart\n",
    "# cart will have an add to cart input feature\n",
    "# show cart items\n",
    "# change/remove cart items\n",
    "\n",
    "\n",
    "\n",
    "#questions\n",
    "#how to adjust for if they input 0 for quantity and dont want to add to cart?\n",
    "# how to get them to input the information?\n",
    "# how to show cart?\n",
    "# how to modify quantity in cart? "
   ]
  },
  {
   "cell_type": "code",
   "execution_count": null,
   "id": "4027d73f",
   "metadata": {},
   "outputs": [],
   "source": [
    "from IPython.display import clear_output #can use this function to clean up outputs when everything is working\n",
    "\n",
    "#class declaration\n",
    "final_list = {}\n",
    "class Cart:\n",
    "    def __init__(self, name, carttotal, itemlist):\n",
    "        self.name = name\n",
    "        self.carttotal = str.format(0.00) #will represent the running total of the cart as items are added\n",
    "        self.itemlist = {} # dictionary to add item information for each item added into cart        \n",
    "\n",
    "    def getinfo(self):\n",
    "        print(f'welcome to your cart {self.name}. Your cart currently contains no items and it totaling to $ {self.carttotal}')\n",
    "#method to addItem\n",
    "#    def addToCart(self):\n",
    "#        p = input('What would you like to add to your cart? ').title\n",
    "#        q = int(input('How many do you want added to your cart?'))\n",
    "#        pr = float(input('How much does the item cost?'))\n",
    "       #these match/correspond the requirements for adding to class 'Items'\n",
    "        \n",
    "    def addItem (self, product, quantity, price):\n",
    "        self.product = product\n",
    "        self.quantity = quantity\n",
    "        self.price = price\n",
    "        self.carttotal = self.carttotal + (self.quantity * self.price) #equivalent to self.carttotal +=(quantity * price)\n",
    "        self.itemlist[self.product] = self.product, self.quantity, self.price \n",
    "        \n",
    "        def info(self):\n",
    "            if self.quantity <= 1:\n",
    "                print (f'{self.product} has been added to your cart')\n",
    "            elif self.quantity > 1:\n",
    "                print (f'{self.quantity} {self.product} have been added to your cart')\n",
    "                \n",
    "    def removeItem (self, product, quantity, price):\n",
    "        if self.product in self.itemlist:\n",
    "            self.carttotal -= (self.quantity * self.price)\n",
    "            print (f'{self.product} is being removed from your cart')\n",
    "            del self.itemlist[self.product]\n",
    "    \n",
    "    def viewCart (self):\n",
    "        for self.product in self.itemlist:\n",
    "            print (f'You currently have {self.quantity} {self.product} in your cart \\n')\n",
    "        print (f'\\n Your Current cart total is ${self.carttotal}')\n",
    "    \n",
    "    def showcart(self):\n",
    "        print (self.itemlist)\n",
    "        \n",
    "    def checkout (self):\n",
    "        for self.product in self.itemlist:\n",
    "            print (f'You have {self.quantity} {self.product} in your cart \\n')\n",
    "        print (f'n Your Current cart total is ${self.carttotal}')\n",
    "    \n",
    "    def clearcart(self):\n",
    "        self.itemlist.clear()\n",
    "        print ('your cart is now cleared')\n",
    "\n",
    "user = Cart ('user1',0.0, 'cartitems')\n",
    "user.getinfo()\n",
    "\n",
    "keep_going = True\n",
    "while keep_going:\n",
    "    userchoice = input('What would you like to do: add to cart, view cart, remove from cart, checkout, clear cart, quit \\n')\n",
    "    if userchoice.lower() == \"add to cart\":\n",
    "#        while True:\n",
    "        p = input('What would you like to add to your cart? \\n').title()\n",
    "        q = int(input('How many do you want added to your cart?\\n'))\n",
    "        pr = float(input('How much does the item cost?\\n'))\n",
    "        user.addItem(p,q,pr)\n",
    "#        if not input('Add another item? type \"no\" to quit'):\n",
    "#            break\n",
    "        clear_output()\n",
    "    elif userchoice.lower() == \"remove from cart\":\n",
    "        if len(user.itemlist)> 0:\n",
    "            p = input('What would you like to remove from your cart? \\n').title()\n",
    "            user.removeItem(p,q,pr)\n",
    "        else: \n",
    "            print ('You do not have anything in your cart')\n",
    "    elif userchoice.lower() == \"view cart\":\n",
    "        if len(user.itemlist) == 0:\n",
    "            print ('You do not have anything in your cart and your cart total is $0.')\n",
    "        else:    \n",
    "            user.viewCart()\n",
    "    elif userchoice.lower() == \"checkout\":\n",
    "        user.viewCart()\n",
    "    elif userchoice.lower() == \"clear cart\":\n",
    "        user.clearcart()\n",
    "        print ('Your cart is now cleared out')\n",
    "    elif userchoice.lower() == \"quit\":\n",
    "        break\n",
    "    else: \n",
    "        print('Please pick a valid option')"
   ]
  },
  {
   "cell_type": "markdown",
   "id": "89dba751",
   "metadata": {},
   "source": [
    "Exercise 2 - Write a Python class which has two methods get_string and print_string. get_string accepts a string from the user and print_string print the string in upper case"
   ]
  },
  {
   "cell_type": "code",
   "execution_count": 35,
   "id": "a29b2f31",
   "metadata": {},
   "outputs": [
    {
     "name": "stdout",
     "output_type": "stream",
     "text": [
      "Please input a string: \n",
      "how are you doing today\n",
      "HOW ARE YOU DOING TODAY\n"
     ]
    }
   ],
   "source": [
    "class String:\n",
    "    def __init__ (self,name): # instantiation - creation of a new object with placeholder name \"self\"\n",
    "        self.name = name\n",
    "    \n",
    "    def get_string(self, response):\n",
    "        response = str(input('Please input a string: \\n'))\n",
    "        return response\n",
    "    \n",
    "    def print_string(self,response):\n",
    "        print(response.upper())\n",
    "\n",
    "user1 = String('user')\n",
    "user1.get_string(response)\n",
    "user1.print_string(response)"
   ]
  },
  {
   "cell_type": "code",
   "execution_count": null,
   "id": "09d344f1",
   "metadata": {},
   "outputs": [],
   "source": []
  }
 ],
 "metadata": {
  "kernelspec": {
   "display_name": "Python 3 (ipykernel)",
   "language": "python",
   "name": "python3"
  },
  "language_info": {
   "codemirror_mode": {
    "name": "ipython",
    "version": 3
   },
   "file_extension": ".py",
   "mimetype": "text/x-python",
   "name": "python",
   "nbconvert_exporter": "python",
   "pygments_lexer": "ipython3",
   "version": "3.9.7"
  }
 },
 "nbformat": 4,
 "nbformat_minor": 5
}
